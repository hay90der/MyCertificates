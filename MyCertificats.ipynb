{
 "cells": [
  {
   "cell_type": "code",
   "execution_count": 3,
   "id": "5ae0737c-b5d9-4fb6-96a2-a2fede472914",
   "metadata": {},
   "outputs": [],
   "source": [
    "# install: pip install --upgrade arabic-reshaper\n",
    "import arabic_reshaper\n",
    "#imports for hash function and qr\n",
    "import hashlib\n",
    "import qrcode\n",
    "# install: pip install python-bidi\n",
    "from bidi.algorithm import get_display\n",
    "from PIL import Image, ImageDraw, ImageFont\n",
    "import pandas as pd\n",
    "import os"
   ]
  },
  {
   "cell_type": "code",
   "execution_count": 9,
   "id": "00392aab-7695-439f-a581-f2fa685b5d68",
   "metadata": {},
   "outputs": [],
   "source": [
    "import smtplib\n",
    "import imghdr\n",
    "from email.message import EmailMessage"
   ]
  },
  {
   "cell_type": "code",
   "execution_count": null,
   "id": "5d121129-0e09-43b2-9596-42369d3b27a9",
   "metadata": {},
   "outputs": [],
   "source": [
    "df = pd.read_csv('F:/ipynb/cert/test2.csv')\n",
    "fontFile = \"F:/ipynb/cert/arial.ttf\"\n",
    "imageFile = \"F:/ipynb/cert/certificate.jpg\"\n",
    "font = ImageFont.truetype(fontFile,60)\n",
    "for index,j in df.iterrows():\n",
    "    reshaped_text = arabic_reshaper.reshape('{}'.format(j['Name']))    # correct its shape\n",
    "    bidi_text = get_display(reshaped_text)\n",
    "    #start make hash and qr\n",
    "    hash_object = hashlib.md5(bidi_text.encode())\n",
    "    print(hash_object.hexdigest())\n",
    "    input_data = hash_object\n",
    "    #Creating an instance of qrcode\n",
    "    qr = qrcode.QRCode(\n",
    "        version=1,\n",
    "        box_size=10,\n",
    "        border=1)\n",
    "    qr.add_data(input_data.hexdigest())\n",
    "    qr.make(fit=True)\n",
    "    imgQR = qr.make_image(fill='black', back_color='white')\n",
    "    imgQR.save('F:/ipynb/cert/pics/{}.png'.format(j['Name']))\n",
    "    new_image = imgQR.resize((140, 140))\n",
    "    #end make hash and qr\n",
    "    img = Image.open('F:/ipynb/cert/certificate.jpg')\n",
    "    draw = ImageDraw.Draw(img)\n",
    "    draw.text(xy=(525,440),text=bidi_text,fill=(0,0,0),font=font)\n",
    "    img.paste(new_image, (50,1200))\n",
    "    img.save('F:/ipynb/cert/pics/{}.jpg'.format(j['Name']))\n",
    "    #start sending emails\n",
    "    idsr = arabic_reshaper.reshape('{}'.format(j['Emails']))\n",
    "    print(idsr)\n",
    "    Sender_Email = \"your@email.com\"\n",
    "    Reciever_Email = arabic_reshaper.reshape('{}'.format(j['Emails']))\n",
    "    Password = input('Enter your email account password: ')\n",
    "    newMessage = EmailMessage()                         \n",
    "    newMessage['Subject'] = \"your subject is here - ضع هنا اسم الموضوع\" \n",
    "    newMessage['From'] = Sender_Email                   \n",
    "    newMessage['To'] = Reciever_Email                   \n",
    "    newMessage.set_content('Message content gose here - محتوى نص الرسالة ') \n",
    "    with open('F:/ipynb/cert/pics/{}.jpg'.format(j['Name']), 'rb') as f:\n",
    "        image_data = f.read()\n",
    "        image_type = imghdr.what(f.name)\n",
    "        image_name = f.name\n",
    "    newMessage.add_attachment(image_data, maintype='image', subtype=image_type, filename=image_name)\n",
    "\n",
    "    # use 'smtp.gmail.com', 465 with gmail, otherwise use your smtp provider if you are using different provider\n",
    "    with smtplib.SMTP_SSL('smtp.gmail.com', 465) as smtp:\n",
    "        smtp.login(Sender_Email, Password)              \n",
    "        smtp.send_message(newMessage)\n",
    "    #end sending emails"
   ]
  }
 ],
 "metadata": {
  "kernelspec": {
   "display_name": "Python 3 (ipykernel)",
   "language": "python",
   "name": "python3"
  },
  "language_info": {
   "codemirror_mode": {
    "name": "ipython",
    "version": 3
   },
   "file_extension": ".py",
   "mimetype": "text/x-python",
   "name": "python",
   "nbconvert_exporter": "python",
   "pygments_lexer": "ipython3",
   "version": "3.9.7"
  }
 },
 "nbformat": 4,
 "nbformat_minor": 5
}
